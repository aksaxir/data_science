{
 "cells": [
  {
   "cell_type": "code",
   "execution_count": 3,
   "metadata": {},
   "outputs": [],
   "source": [
    "from datetime import datetime, timedelta"
   ]
  },
  {
   "cell_type": "markdown",
   "metadata": {},
   "source": [
    "1. Напишите функцию date_range, которая возвращает список дней между датами start_date и end_date. Даты должны вводиться в формате YYYY-MM-DD."
   ]
  },
  {
   "cell_type": "code",
   "execution_count": 77,
   "metadata": {
    "scrolled": true
   },
   "outputs": [
    {
     "data": {
      "text/plain": [
       "['2020-02-28', '2020-02-29', '2020-03-01', '2020-03-02', '2020-03-03']"
      ]
     },
     "execution_count": 77,
     "metadata": {},
     "output_type": "execute_result"
    }
   ],
   "source": [
    "def date_range(start_date, end_date):\n",
    "    start_date = datetime.strptime(start_date, '%Y-%m-%d')\n",
    "    end_date = datetime.strptime(end_date, '%Y-%m-%d')\n",
    "    current_dt = start_date\n",
    "    dates=[]\n",
    "    \n",
    "    while current_dt <= end_date:\n",
    "        dates.append(current_dt.strftime('%Y-%m-%d'))\n",
    "        current_dt += timedelta(days=1)\n",
    "    return dates\n",
    "\n",
    "date_range('2020-02-28', '2020-03-03')"
   ]
  },
  {
   "cell_type": "markdown",
   "metadata": {},
   "source": [
    "2. Дополните функцию из первого задания проверкой на корректность дат. В случае неверного формата или если start_date > end_date должен возвращаться пустой список."
   ]
  },
  {
   "cell_type": "code",
   "execution_count": 35,
   "metadata": {},
   "outputs": [
    {
     "name": "stdout",
     "output_type": "stream",
     "text": [
      "Please, provide start date in format YYYY-MM-DD\n",
      "Please, provide end date in format YYYY-MM-DD\n",
      "Start date must be sooner then end date\n"
     ]
    },
    {
     "data": {
      "text/plain": [
       "['2020-02-28', '2020-02-29', '2020-03-01', '2020-03-02', '2020-03-03']"
      ]
     },
     "execution_count": 35,
     "metadata": {},
     "output_type": "execute_result"
    }
   ],
   "source": [
    "def date_range(start_date, end_date):\n",
    "    try:\n",
    "        start_date = datetime.strptime(start_date, '%Y-%m-%d')\n",
    "    except ValueError:\n",
    "        return 'Please, provide start date in format YYYY-MM-DD'\n",
    "    \n",
    "    try:\n",
    "        end_date = datetime.strptime(end_date, '%Y-%m-%d')\n",
    "    except ValueError:\n",
    "        return 'Please, provide end date in format YYYY-MM-DD'\n",
    "    \n",
    "    if start_date > end_date:\n",
    "        print('Start date must be sooner then end date')\n",
    "        return []\n",
    "    \n",
    "    current_dt = start_date\n",
    "    dates = []\n",
    "    \n",
    "    while current_dt <= end_date:\n",
    "        dates.append(current_dt.strftime('%Y-%m-%d'))\n",
    "        current_dt += timedelta(days=1)\n",
    "    return dates\n",
    "\n",
    "print(date_range('2020-0222-28', '2020-03-03'))\n",
    "print(date_range('2020-02-28', '2020-03---03'))\n",
    "date_range('2020-03-28', '2020-03-03')\n",
    "date_range('2020-02-28', '2020-03-03')"
   ]
  },
  {
   "cell_type": "markdown",
   "metadata": {},
   "source": [
    "3. Дан поток дат в формате YYYY-MM-DD, в которых встречаются некорректные значения:\n",
    "stream = ['2018-04-02', '2018-02-29', '2018-19-02']\n",
    "Напишите функцию, которая проверяет эти даты на корректность. Т. е. для каждой даты возвращает True (дата корректна) или False (некорректная дата)."
   ]
  },
  {
   "cell_type": "code",
   "execution_count": 55,
   "metadata": {},
   "outputs": [
    {
     "data": {
      "text/plain": [
       "[('2018-04-02', True), ('2018-02-29', False), ('2018-19-02', False)]"
      ]
     },
     "execution_count": 55,
     "metadata": {},
     "output_type": "execute_result"
    }
   ],
   "source": [
    "def date_checker(datelist):\n",
    "    checked_dates = []\n",
    "    \n",
    "    for item in datelist:\n",
    "        try:\n",
    "            datetime.strptime(item, '%Y-%m-%d')\n",
    "            checked_dates.append((item, True))\n",
    "        except ValueError:\n",
    "            checked_dates.append((item, False))\n",
    "    \n",
    "    return checked_dates\n",
    "\n",
    "stream = ['2018-04-02', '2018-02-29', '2018-19-02']\n",
    "date_checker(stream)"
   ]
  },
  {
   "cell_type": "markdown",
   "metadata": {},
   "source": [
    "4. Напишите функцию, которая возвращает список дат с 1 по вчерашний день текущего месяца. Если дан 1 день месяца, то возвращается список дней прошлого месяца."
   ]
  },
  {
   "cell_type": "code",
   "execution_count": 91,
   "metadata": {},
   "outputs": [
    {
     "name": "stdout",
     "output_type": "stream",
     "text": [
      "['2018-12-01', '2018-12-02', '2018-12-03', '2018-12-04', '2018-12-05', '2018-12-06', '2018-12-07', '2018-12-08', '2018-12-09', '2018-12-10', '2018-12-11', '2018-12-12', '2018-12-13', '2018-12-14']\n",
      "\n",
      "['2018-11-01', '2018-11-02', '2018-11-03', '2018-11-04', '2018-11-05', '2018-11-06', '2018-11-07', '2018-11-08', '2018-11-09', '2018-11-10', '2018-11-11', '2018-11-12', '2018-11-13', '2018-11-14', '2018-11-15', '2018-11-16', '2018-11-17', '2018-11-18', '2018-11-19', '2018-11-20', '2018-11-21', '2018-11-22', '2018-11-23', '2018-11-24', '2018-11-25', '2018-11-26', '2018-11-27', '2018-11-28', '2018-11-29', '2018-11-30']\n"
     ]
    }
   ],
   "source": [
    "def date_range_dt(start_date, end_date):\n",
    "    current_dt = start_date\n",
    "    dates=[]\n",
    "    \n",
    "    while current_dt <= end_date:\n",
    "        dates.append(current_dt.strftime('%Y-%m-%d'))\n",
    "        current_dt += timedelta(days=1)\n",
    "    return dates\n",
    "\n",
    "def get_previous_days_in_month(today):\n",
    "    #берем текущий месяц или предыдущий в случае 1го числа на входе\n",
    "    month = today.month if today.day != 1 else today.month-1\n",
    "    #первое число выбранного месяца\n",
    "    start_date = datetime(today.year, month, 1)\n",
    "    #вчерашний день\n",
    "    end_date = today - timedelta(days=1)\n",
    "    return date_range_dt(start_date, end_date) \n",
    "\n",
    "print (get_previous_days_in_month(datetime.today()))\n",
    "print()\n",
    "print(get_previous_days_in_month(datetime(2018, 12, 1)))"
   ]
  },
  {
   "cell_type": "markdown",
   "metadata": {},
   "source": [
    "5. Напишите функцию, которая возвращает точную дату в формате YYYY-MM-DD по фразе:\n",
    "- 'today' - сегодняшнюю дату\n",
    "- 'last monday' -  прошлый понедельник\n",
    "- 'last day' - Последний день текущего месяца"
   ]
  },
  {
   "cell_type": "code",
   "execution_count": 120,
   "metadata": {},
   "outputs": [
    {
     "name": "stdout",
     "output_type": "stream",
     "text": [
      "today is 2018-12-16\n",
      "last monday was 2018-12-10\n",
      "last day will be 2018-12-31\n"
     ]
    }
   ],
   "source": [
    "def phrase_to_date(phrase):\n",
    "    if phrase == 'today':\n",
    "        return (phrase, 'is', datetime.strftime(datetime.today(), '%Y-%m-%d'))\n",
    "    if phrase == 'last monday':\n",
    "        return (phrase, 'was', datetime.strftime(datetime.today() - timedelta(days=datetime.today().weekday()), '%Y-%m-%d'))\n",
    "    if phrase == 'last day':\n",
    "        #берем первый день месяца; прибавляем к нему 31 день, чтобы точно перейти на следующий месяц;\n",
    "        #заменяем в полученной дате день на 1, чтобы получить первый день нового месяца;\n",
    "        #вычетаем 1 день чтобы, получить последний предыдущего (на самом деле, текущего) месяца\n",
    "        return (phrase, 'will be', datetime.strftime((datetime.today().replace(day=1) + timedelta(days=32)).replace(day=1) - timedelta(days=1), '%Y-%m-%d'))\n",
    "    \n",
    "print(' '.join(phrase_to_date('today')))\n",
    "print(' '.join(phrase_to_date('last monday')))\n",
    "print(' '.join(phrase_to_date('last day')))"
   ]
  },
  {
   "cell_type": "markdown",
   "metadata": {},
   "source": [
    "6. Напишите функцию, которая разбивает на недели с понедельника по воскресенье интервал дат между start_date и end_date. Считайте, что входные данные всегда корректны. В ответ должны входить только полные недели."
   ]
  },
  {
   "cell_type": "code",
   "execution_count": 134,
   "metadata": {},
   "outputs": [
    {
     "data": {
      "text/plain": [
       "(2018, 50, 7)"
      ]
     },
     "execution_count": 134,
     "metadata": {},
     "output_type": "execute_result"
    }
   ],
   "source": [
    "from datetime import date\n",
    "datetime.today().isocalendar()"
   ]
  },
  {
   "cell_type": "code",
   "execution_count": 138,
   "metadata": {},
   "outputs": [
    {
     "data": {
      "text/plain": [
       "['2020-01-28',\n",
       " '2020-02-04',\n",
       " '2020-02-11',\n",
       " '2020-02-18',\n",
       " '2020-02-25',\n",
       " '2020-03-03']"
      ]
     },
     "execution_count": 138,
     "metadata": {},
     "output_type": "execute_result"
    }
   ],
   "source": [
    "def week_range(start_date, end_date):\n",
    "    start_date = datetime.strptime(start_date, '%Y-%m-%d')\n",
    "    end_date = datetime.strptime(end_date, '%Y-%m-%d')\n",
    "    current_dt = start_date\n",
    "    dates=[]\n",
    "    \n",
    "    while current_dt <= end_date:\n",
    "        dates.append(current_dt.strftime('%Y-%m-%d'))\n",
    "        current_dt += timedelta(days=7)\n",
    "    return dates\n",
    "\n",
    "week_range('2020-01-28', '2020-03-03')"
   ]
  }
 ],
 "metadata": {
  "kernelspec": {
   "display_name": "Python 3",
   "language": "python",
   "name": "python3"
  },
  "language_info": {
   "codemirror_mode": {
    "name": "ipython",
    "version": 3
   },
   "file_extension": ".py",
   "mimetype": "text/x-python",
   "name": "python",
   "nbconvert_exporter": "python",
   "pygments_lexer": "ipython3",
   "version": "3.7.0"
  }
 },
 "nbformat": 4,
 "nbformat_minor": 2
}
